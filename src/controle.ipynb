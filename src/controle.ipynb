{
 "cells": [
  {
   "cell_type": "code",
   "execution_count": null,
   "id": "e59d0878",
   "metadata": {},
   "outputs": [],
   "source": [
    "#Cadastrar eclamações para o arquivo .csv\n",
    "import csv\n",
    "\n",
    "with open(\"../data/reclamacoes.csv\", 'a', newline = '') as r2:\n",
    "    df_csv = csv.writer(r2)\n",
    "    df_csv.writerow(('id', 'tipo', 'local', 'data'))\n",
    "    \n",
    "    count = 0\n",
    "    while True:\n",
    "        tipo = input('Qual é o tipo da sua reclamação? ')\n",
    "        local = input('Qual foi o local da ocorrência? ')\n",
    "        date = input('Qual foi a data do ocorrido? ')\n",
    "        count += 1\n",
    "        \n",
    "        df_csv.writerow((count, tipo, local, date))\n",
    "\n",
    "        escolha = input('Você deseja cadastrar outra reclamação? [S/N]').lower()\n",
    "        if escolha != 's':\n",
    "            break\n",
    "    \n"
   ]
  },
  {
   "cell_type": "code",
   "execution_count": null,
   "id": "32c26e6c",
   "metadata": {},
   "outputs": [],
   "source": [
    "#Leitura das reclamações\n",
    "with open(\"../data/reclamacoes2.csv\", 'r') as r2:\n",
    "    df_csv = csv.reader(r2, delimiter=',')"
   ]
  }
 ],
 "metadata": {
  "kernelspec": {
   "display_name": "base",
   "language": "python",
   "name": "python3"
  },
  "language_info": {
   "codemirror_mode": {
    "name": "ipython",
    "version": 3
   },
   "file_extension": ".py",
   "mimetype": "text/x-python",
   "name": "python",
   "nbconvert_exporter": "python",
   "pygments_lexer": "ipython3",
   "version": "3.12.7"
  }
 },
 "nbformat": 4,
 "nbformat_minor": 5
}
